{
 "cells": [
  {
   "cell_type": "code",
   "execution_count": 6,
   "metadata": {},
   "outputs": [
    {
     "data": {
      "text/plain": [
       "<function BufferedReader.close>"
      ]
     },
     "execution_count": 6,
     "metadata": {},
     "output_type": "execute_result"
    }
   ],
   "source": [
    "import pickle\n",
    "\n",
    "modelo = open('modelo_consumo_cerveja', 'rb')\n",
    "lm_new = pickle.load(modelo)\n",
    "modelo.close"
   ]
  },
  {
   "cell_type": "code",
   "execution_count": 10,
   "metadata": {},
   "outputs": [
    {
     "name": "stdout",
     "output_type": "stream",
     "text": [
      "Passe os seguintes dados para prever o consumo de cerveja(litros):\n",
      "\n"
     ]
    },
    {
     "name": "stdin",
     "output_type": "stream",
     "text": [
      "Qual a temperatura máxima do dia? 30\n",
      "É fim de semana? (0-Não / 1-Sim) 0\n",
      "Quantos mm haverá no dia? 5\n"
     ]
    },
    {
     "name": "stdout",
     "output_type": "stream",
     "text": [
      "\n",
      "Nesse dia o consumo de cerveja médio será de 26190.17 litros\n"
     ]
    }
   ],
   "source": [
    "print('Passe os seguintes dados para prever o consumo de cerveja(litros):\\n')\n",
    "temp_max = float(input('Qual a temperatura máxima do dia?'))\n",
    "fds = float(input('É fim de semana? (0-Não / 1-Sim)'))\n",
    "chuva = float(input('Quantos mm haverá no dia?'))\n",
    "\n",
    "entrada = [[temp_max, chuva, fds]]\n",
    "print(f'\\nNesse dia o consumo de cerveja médio será de {lm_new.predict(entrada)[0] :0.2f} litros')"
   ]
  },
  {
   "cell_type": "code",
   "execution_count": null,
   "metadata": {},
   "outputs": [],
   "source": []
  }
 ],
 "metadata": {
  "kernelspec": {
   "display_name": "Python 3",
   "language": "python",
   "name": "python3"
  },
  "language_info": {
   "codemirror_mode": {
    "name": "ipython",
    "version": 3
   },
   "file_extension": ".py",
   "mimetype": "text/x-python",
   "name": "python",
   "nbconvert_exporter": "python",
   "pygments_lexer": "ipython3",
   "version": "3.8.3"
  }
 },
 "nbformat": 4,
 "nbformat_minor": 4
}
