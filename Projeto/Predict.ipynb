{
 "cells": [
  {
   "cell_type": "code",
   "execution_count": 16,
   "metadata": {},
   "outputs": [
    {
     "data": {
      "text/plain": [
       "<function BufferedReader.close>"
      ]
     },
     "execution_count": 16,
     "metadata": {},
     "output_type": "execute_result"
    }
   ],
   "source": [
    "import pickle\n",
    "\n",
    "modelo = open('modelo_consumo_cerveja', 'rb')\n",
    "lm_new = pickle.load(modelo)\n",
    "modelo.close"
   ]
  },
  {
   "cell_type": "code",
   "execution_count": 23,
   "metadata": {},
   "outputs": [
    {
     "name": "stdout",
     "output_type": "stream",
     "text": [
      "Passe os seguintes dados para prever o consumo de cerveja(litros):\n",
      "\n"
     ]
    },
    {
     "name": "stdin",
     "output_type": "stream",
     "text": [
      "Qual a temperatura máxima do dia? 0\n",
      "É fim de semana? (0-Não / 1-Sim) 0\n",
      "Quantos mm haverá no dia? 0\n"
     ]
    },
    {
     "name": "stdout",
     "output_type": "stream",
     "text": [
      "\n",
      "Nesse dia o consumo de cerveja médio será de 5951.98 litros\n"
     ]
    }
   ],
   "source": [
    "print('Passe os seguintes dados para prever o consumo de cerveja(litros):\\n')\n",
    "temp_max = float(input('Qual a temperatura máxima do dia?'))\n",
    "fds = float(input('É fim de semana? (0-Não / 1-Sim)'))\n",
    "chuva = float(input('Quantos mm haverá no dia?'))\n",
    "\n",
    "entrada = [[temp_max, chuva, fds]]\n",
    "print(f'\\nNesse dia o consumo de cerveja médio será de {lm_new.predict(entrada)[0] :0.2f} litros')"
   ]
  },
  {
   "cell_type": "code",
   "execution_count": 17,
   "metadata": {},
   "outputs": [],
   "source": [
    "from ipywidgets import widgets, HBox, VBox\n",
    "from IPython.display import display"
   ]
  },
  {
   "cell_type": "code",
   "execution_count": 37,
   "metadata": {},
   "outputs": [],
   "source": [
    "temp_max = widgets.Text(description='Temperatura Máxima')\n",
    "fds = widgets.RadioButtons(options=['Sim', 'Não'], description='Final de Semana')\n",
    "chuva = widgets.Text(description='Chuva(mm)')\n",
    "\n",
    "botao = widgets.Button(description=\"Simular\")\n",
    "\n",
    "left = VBox([temp_max, chuva])\n",
    "right = VBox([fds])\n",
    "\n",
    "inputs = HBox([left, right])\n",
    "\n",
    "def simular(sender):\n",
    "    entrada = [[\n",
    "        float(temp_max.value if temp_max.value else 0),\n",
    "        float(1 if fds.value == 'Sim' else 0),\n",
    "        float(chuva.value if chuva.value else 0)\n",
    "        \n",
    "    ]]\n",
    "    print(f'\\nNesse dia o consumo de cerveja médio será de {lm_new.predict(entrada)[0] :0.2f} litros')\n",
    "botao.on_click(simular)"
   ]
  },
  {
   "cell_type": "code",
   "execution_count": 36,
   "metadata": {},
   "outputs": [
    {
     "data": {
      "application/vnd.jupyter.widget-view+json": {
       "model_id": "69326a84e46d44309ee6cd1e02449a8a",
       "version_major": 2,
       "version_minor": 0
      },
      "text/plain": [
       "HBox(children=(VBox(children=(Text(value='', description='Temperatura Máxima'), Text(value='', description='Ch…"
      ]
     },
     "metadata": {},
     "output_type": "display_data"
    },
    {
     "data": {
      "application/vnd.jupyter.widget-view+json": {
       "model_id": "2799861492214c87bba6fd9cb8a2fed0",
       "version_major": 2,
       "version_minor": 0
      },
      "text/plain": [
       "Button(description='Simular', style=ButtonStyle())"
      ]
     },
     "metadata": {},
     "output_type": "display_data"
    }
   ],
   "source": [
    "display(inputs, botao)"
   ]
  },
  {
   "cell_type": "code",
   "execution_count": null,
   "metadata": {},
   "outputs": [],
   "source": []
  }
 ],
 "metadata": {
  "kernelspec": {
   "display_name": "Python 3",
   "language": "python",
   "name": "python3"
  },
  "language_info": {
   "codemirror_mode": {
    "name": "ipython",
    "version": 3
   },
   "file_extension": ".py",
   "mimetype": "text/x-python",
   "name": "python",
   "nbconvert_exporter": "python",
   "pygments_lexer": "ipython3",
   "version": "3.8.3"
  }
 },
 "nbformat": 4,
 "nbformat_minor": 4
}
